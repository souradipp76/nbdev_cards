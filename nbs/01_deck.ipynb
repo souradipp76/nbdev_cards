{
 "cells": [
  {
   "cell_type": "code",
   "execution_count": null,
   "metadata": {},
   "outputs": [],
   "source": [
    "#| default_exp deck"
   ]
  },
  {
   "cell_type": "markdown",
   "metadata": {},
   "source": [
    "# Deck\n",
    "> A deck of playing cards"
   ]
  },
  {
   "cell_type": "code",
   "execution_count": null,
   "metadata": {},
   "outputs": [],
   "source": [
    "#| hide\n",
    "from nbdev.showdoc import *\n",
    "from fastcore.test import *\n",
    "import random"
   ]
  },
  {
   "cell_type": "code",
   "execution_count": null,
   "metadata": {},
   "outputs": [],
   "source": [
    "#| export\n",
    "from nbdev_cards.card import *\n",
    "from fastcore.utils import *"
   ]
  },
  {
   "cell_type": "code",
   "execution_count": null,
   "metadata": {},
   "outputs": [],
   "source": [
    "#| export\n",
    "class Deck:\n",
    "    \"A deck of cards not including jokers\"\n",
    "    def __init__(self):\n",
    "        self.cards = [Card(s, r) for s in range(4) for r in range(1,14)]\n",
    "    def __len__(self):\n",
    "        return len(self.cards)\n",
    "    def __str__(self):\n",
    "        return \"; \".join(map(str, self.cards))\n",
    "    def __contains__(self, card):\n",
    "        return card in self.cards\n",
    "    def shuffle(self):\n",
    "        \"Shuffle the cards in a deck\"\n",
    "        random.shuffle(self.cards)\n",
    "    __repr__ = __str__"
   ]
  },
  {
   "cell_type": "markdown",
   "metadata": {},
   "source": [
    "When we initially create a deck, all of the cards will be present:"
   ]
  },
  {
   "cell_type": "code",
   "execution_count": null,
   "metadata": {},
   "outputs": [
    {
     "data": {
      "text/plain": [
       "A♣; 2♣; 3♣; 4♣; 5♣; 6♣; 7♣; 8♣; 9♣; 10♣; J♣; Q♣; K♣; A♦; 2♦; 3♦; 4♦; 5♦; 6♦; 7♦; 8♦; 9♦; 10♦; J♦; Q♦; K♦; A♥; 2♥; 3♥; 4♥; 5♥; 6♥; 7♥; 8♥; 9♥; 10♥; J♥; Q♥; K♥; A♠; 2♠; 3♠; 4♠; 5♠; 6♠; 7♠; 8♠; 9♠; 10♠; J♠; Q♠; K♠"
      ]
     },
     "execution_count": null,
     "metadata": {},
     "output_type": "execute_result"
    }
   ],
   "source": [
    "deck = Deck()\n",
    "deck"
   ]
  },
  {
   "cell_type": "markdown",
   "metadata": {},
   "source": [
    "That will be 52 cards."
   ]
  },
  {
   "cell_type": "code",
   "execution_count": null,
   "metadata": {},
   "outputs": [],
   "source": [
    "test_eq(len(deck), 52)"
   ]
  },
  {
   "cell_type": "markdown",
   "metadata": {},
   "source": [
    "As a reminder, these are the suits defined in `Card`:"
   ]
  },
  {
   "cell_type": "code",
   "execution_count": null,
   "metadata": {},
   "outputs": [
    {
     "data": {
      "text/plain": [
       "['♣', '♦', '♥', '♠']"
      ]
     },
     "execution_count": null,
     "metadata": {},
     "output_type": "execute_result"
    }
   ],
   "source": [
    "suits"
   ]
  },
  {
   "cell_type": "markdown",
   "metadata": {},
   "source": [
    "We can check if the Ace of clubs is in the deck"
   ]
  },
  {
   "cell_type": "code",
   "execution_count": null,
   "metadata": {},
   "outputs": [
    {
     "data": {
      "text/plain": [
       "True"
      ]
     },
     "execution_count": null,
     "metadata": {},
     "output_type": "execute_result"
    }
   ],
   "source": [
    "Card(1,1) in deck"
   ]
  },
  {
   "cell_type": "code",
   "execution_count": null,
   "metadata": {},
   "outputs": [],
   "source": [
    "#| export\n",
    "@patch\n",
    "def pop(self: Deck,\n",
    "        idx :int = -1): # The index of the card to remove, defaulting to the last one\n",
    "    \"Remove one card from the deck\"\n",
    "    return self.cards.pop(idx)"
   ]
  },
  {
   "cell_type": "code",
   "execution_count": null,
   "metadata": {},
   "outputs": [],
   "source": [
    "deck = Deck()\n",
    "test_eq(deck.pop(), Card(3, 13)) # K♠"
   ]
  },
  {
   "cell_type": "markdown",
   "metadata": {},
   "source": [
    "There are 51 cards left in the deck now."
   ]
  },
  {
   "cell_type": "code",
   "execution_count": null,
   "metadata": {},
   "outputs": [],
   "source": [
    "test_eq(len(deck), 51)"
   ]
  },
  {
   "cell_type": "code",
   "execution_count": null,
   "metadata": {},
   "outputs": [],
   "source": [
    "#| export\n",
    "@patch\n",
    "def remove(self: Deck,\n",
    "        card: Card): # The card to remove\n",
    "    \"Remove card from the deck or raise exception if not present\"\n",
    "    return self.cards.remove(card)"
   ]
  },
  {
   "cell_type": "code",
   "execution_count": null,
   "metadata": {},
   "outputs": [],
   "source": [
    "deck = Deck()\n",
    "card23 = Card(2,3)\n",
    "deck.remove(card23)\n",
    "assert card23 not in deck"
   ]
  },
  {
   "cell_type": "code",
   "execution_count": null,
   "metadata": {},
   "outputs": [
    {
     "data": {
      "text/markdown": "---\n\n### Deck.shuffle\n\n>      Deck.shuffle ()\n\nShuffle the cards in a deck",
      "text/plain": [
       "---\n",
       "\n",
       "### Deck.shuffle\n",
       "\n",
       ">      Deck.shuffle ()\n",
       "\n",
       "Shuffle the cards in a deck"
      ]
     },
     "execution_count": null,
     "metadata": {},
     "output_type": "execute_result"
    }
   ],
   "source": [
    "show_doc(Deck.shuffle)"
   ]
  },
  {
   "cell_type": "code",
   "execution_count": null,
   "metadata": {},
   "outputs": [],
   "source": [
    "#| export\n",
    "def draw_n(n:int, # Number of cards to draw\n",
    "           replace: bool = True): # whether or not to draw with replacement\n",
    "    d = Deck()\n",
    "    d.shuffle()\n",
    "    if replace:\n",
    "        return [d.cards[random.choice(range(len(d.cards)))] for _ in range(n)]\n",
    "    else:\n",
    "        return d.cards[:n]"
   ]
  },
  {
   "cell_type": "markdown",
   "metadata": {},
   "source": [
    "Example to draw n cards:"
   ]
  },
  {
   "cell_type": "code",
   "execution_count": null,
   "metadata": {},
   "outputs": [
    {
     "data": {
      "text/plain": [
       "[8♣, 8♥, 3♦, 6♦, 10♣, 5♥, 2♦, 4♦, Q♣, 2♥, 9♥, K♥]"
      ]
     },
     "execution_count": null,
     "metadata": {},
     "output_type": "execute_result"
    }
   ],
   "source": [
    "draw_n(12, replace=False)"
   ]
  }
 ],
 "metadata": {
  "kernelspec": {
   "display_name": "python3",
   "language": "python",
   "name": "python3"
  }
 },
 "nbformat": 4,
 "nbformat_minor": 0
}
